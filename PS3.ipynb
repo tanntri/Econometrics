{
 "cells": [
  {
   "cell_type": "code",
   "execution_count": 1,
   "metadata": {},
   "outputs": [],
   "source": [
    "import pandas as pd\n",
    "import statsmodels.api as sm\n",
    "import scipy.stats as ss\n",
    "import math\n",
    "import statistics\n",
    "from sklearn.metrics import mean_squared_error"
   ]
  },
  {
   "cell_type": "markdown",
   "metadata": {},
   "source": [
    "<h2>1) Using the posted data set ECONMATH2.DTA to answer the following questions.</h2>"
   ]
  },
  {
   "cell_type": "code",
   "execution_count": 4,
   "metadata": {},
   "outputs": [
    {
     "data": {
      "text/html": [
       "<div>\n",
       "<style scoped>\n",
       "    .dataframe tbody tr th:only-of-type {\n",
       "        vertical-align: middle;\n",
       "    }\n",
       "\n",
       "    .dataframe tbody tr th {\n",
       "        vertical-align: top;\n",
       "    }\n",
       "\n",
       "    .dataframe thead th {\n",
       "        text-align: right;\n",
       "    }\n",
       "</style>\n",
       "<table border=\"1\" class=\"dataframe\">\n",
       "  <thead>\n",
       "    <tr style=\"text-align: right;\">\n",
       "      <th></th>\n",
       "      <th>colgpa</th>\n",
       "      <th>hsgpa</th>\n",
       "      <th>actmth</th>\n",
       "      <th>acteng</th>\n",
       "      <th>study</th>\n",
       "    </tr>\n",
       "  </thead>\n",
       "  <tbody>\n",
       "    <tr>\n",
       "      <th>0</th>\n",
       "      <td>3.4909</td>\n",
       "      <td>3.355</td>\n",
       "      <td>26</td>\n",
       "      <td>24</td>\n",
       "      <td>10.0</td>\n",
       "    </tr>\n",
       "    <tr>\n",
       "      <th>1</th>\n",
       "      <td>2.1000</td>\n",
       "      <td>3.219</td>\n",
       "      <td>20</td>\n",
       "      <td>23</td>\n",
       "      <td>22.5</td>\n",
       "    </tr>\n",
       "    <tr>\n",
       "      <th>2</th>\n",
       "      <td>3.0851</td>\n",
       "      <td>3.306</td>\n",
       "      <td>24</td>\n",
       "      <td>21</td>\n",
       "      <td>12.0</td>\n",
       "    </tr>\n",
       "    <tr>\n",
       "      <th>3</th>\n",
       "      <td>2.6805</td>\n",
       "      <td>3.977</td>\n",
       "      <td>28</td>\n",
       "      <td>31</td>\n",
       "      <td>40.0</td>\n",
       "    </tr>\n",
       "    <tr>\n",
       "      <th>4</th>\n",
       "      <td>3.7454</td>\n",
       "      <td>3.890</td>\n",
       "      <td>31</td>\n",
       "      <td>28</td>\n",
       "      <td>15.0</td>\n",
       "    </tr>\n",
       "  </tbody>\n",
       "</table>\n",
       "</div>"
      ],
      "text/plain": [
       "   colgpa  hsgpa  actmth  acteng  study\n",
       "0  3.4909  3.355      26      24   10.0\n",
       "1  2.1000  3.219      20      23   22.5\n",
       "2  3.0851  3.306      24      21   12.0\n",
       "3  2.6805  3.977      28      31   40.0\n",
       "4  3.7454  3.890      31      28   15.0"
      ]
     },
     "execution_count": 4,
     "metadata": {},
     "output_type": "execute_result"
    }
   ],
   "source": [
    "econmath_df = pd.read_stata('ECONMATH2.dta')\n",
    "econmath_df.dropna()\n",
    "econmath_df.head(5)"
   ]
  },
  {
   "cell_type": "code",
   "execution_count": 5,
   "metadata": {},
   "outputs": [
    {
     "name": "stdout",
     "output_type": "stream",
     "text": [
      "                            OLS Regression Results                            \n",
      "==============================================================================\n",
      "Dep. Variable:                 colgpa   R-squared:                       0.256\n",
      "Model:                            OLS   Adj. R-squared:                  0.253\n",
      "Method:                 Least Squares   F-statistic:                     92.76\n",
      "Date:                Wed, 08 Sep 2021   Prob (F-statistic):           1.31e-51\n",
      "Time:                        23:47:14   Log-Likelihood:                -531.52\n",
      "No. Observations:                 814   AIC:                             1071.\n",
      "Df Residuals:                     810   BIC:                             1090.\n",
      "Df Model:                           3                                         \n",
      "Covariance Type:            nonrobust                                         \n",
      "==============================================================================\n",
      "                 coef    std err          t      P>|t|      [0.025      0.975]\n",
      "------------------------------------------------------------------------------\n",
      "const          0.0282      0.168      0.168      0.866      -0.301       0.357\n",
      "hsgpa          0.6590      0.053     12.423      0.000       0.555       0.763\n",
      "actmth         0.0130      0.005      2.526      0.012       0.003       0.023\n",
      "acteng         0.0122      0.005      2.422      0.016       0.002       0.022\n",
      "==============================================================================\n",
      "Omnibus:                       18.921   Durbin-Watson:                   1.953\n",
      "Prob(Omnibus):                  0.000   Jarque-Bera (JB):               19.601\n",
      "Skew:                          -0.368   Prob(JB):                     5.54e-05\n",
      "Kurtosis:                       3.190   Cond. No.                         347.\n",
      "==============================================================================\n",
      "\n",
      "Notes:\n",
      "[1] Standard Errors assume that the covariance matrix of the errors is correctly specified.\n"
     ]
    }
   ],
   "source": [
    "x = econmath_df[['hsgpa', 'actmth', 'acteng']]\n",
    "y = econmath_df[['colgpa']]\n",
    "x = sm.add_constant(x)\n",
    "reg = sm.OLS(y,x).fit()\n",
    "print(reg.summary())"
   ]
  },
  {
   "cell_type": "markdown",
   "metadata": {},
   "source": [
    "<h3>(a) Estimate a model relating colgpa (dependent variable) to hsgpa, actmth, and acteng (indepen-\n",
    "dent variables). Report the results using the usual Stata output. Are all explanatory variables\n",
    "signi",
    "cant at conventional levels? Discuss.</h3>"
   ]
  },
  {
   "cell_type": "markdown",
   "metadata": {},
   "source": [
    "<p>𝑐𝑜𝑙𝑔𝑝𝑎̂ = 𝛽<sub>0</sub> + 𝛽<sub>1</sub>ℎ𝑠𝑔𝑝𝑎 + 𝛽<sub>2</sub>𝑎𝑐𝑡𝑚𝑡ℎ + 𝛽<sub>3</sub>𝑎𝑐𝑡𝑒𝑛𝑔\n",
    "<br>\n",
    "&emsp; =0.0282 + 0.6590 ℎ𝑠𝑔𝑝𝑎 + 0.0130 𝑎𝑐𝑡𝑚𝑡ℎ + 0.0122 𝑎𝑐𝑡𝑒𝑛𝑔</p>\n",
    "<p>By comparing the P-value with 𝛼, hsgpa has the P-value of 0.000, actmth has the P-value of 0.012, and acteng has the P-value of 0.016, which implies that hsgpa is significant at 1%, 5%, and 10% level, while actmth and acteng is significant at 5% and 10% level since actmth and acteng has P-value higher than 0.01 but lower than 0.05 and 0.10.</p>"
   ]
  },
  {
   "cell_type": "markdown",
   "metadata": {},
   "source": [
    "<h3>(b) Consider an increase in hsgpa of one standard deviation (about 0.343). By how much does colgpa\n",
    "increase, holding actmth and acteng fixed. About how many standard deviations would the\n",
    "actmth have to increase to change colgpa by the same amount as a one standard deviation in\n",
    "hsgpa? Explain.</h3>"
   ]
  },
  {
   "cell_type": "markdown",
   "metadata": {},
   "source": [
    "<p>Standard deviation for hsgpa is about 0.343, the coefficient is .6590007. So an increase of one standard deviation on hsgpa would increase colgpa by</p>\n",
    "<p>Δ𝑐𝑜𝑙𝑔𝑝𝑎̂ = 𝛽̂ℎ𝑠𝑔𝑝𝑎 ∗ 𝑠𝑑(ℎ𝑠𝑔𝑝𝑎) = (0.6590007)(0.343) ≈ 0.2260372401</p>\n",
    "<p>As for how many standard deviations would the actmth have to increase to change 𝑐𝑜𝑙𝑔𝑝𝑎̂ by the same amount as a one standard deviation in hsgpa, it would be</p>\n",
    "<p>Δ𝑠𝑑_𝑎𝑐𝑡𝑚𝑡ℎ = 𝛽̂<sub>ℎ𝑠𝑔𝑝𝑎</sub> ∗ 𝑠t𝑑(ℎ𝑠𝑔𝑝𝑎) / 𝛽̂<sub>𝑎𝑐𝑡𝑚𝑡ℎ</sub> ∗ 𝑠t𝑑(𝑎𝑐𝑡𝑚𝑡ℎ) = (0.6590007)(0.343)(0.0130198)(3.773) ≈ 4.606</p>"
   ]
  },
  {
   "cell_type": "markdown",
   "metadata": {},
   "source": [
    "<h3>(c) Test the null hypothesis that actmth and hsgpa have the same e¤ect (in the population) against\n",
    "a two-sided alternative. Report the p-value and explain your conclusion</h3>"
   ]
  },
  {
   "cell_type": "code",
   "execution_count": 6,
   "metadata": {},
   "outputs": [
    {
     "name": "stdout",
     "output_type": "stream",
     "text": [
      "<F test: F=array([[96.23609624]]), p=3.1778773828316035e-38, df_denom=810, df_num=2>\n"
     ]
    }
   ],
   "source": [
    "# ss.ttest_rel(econmath_df['actmth'], econmath_df['hsgpa'])\n",
    "hypotheses = '(actmth=0), (hsgpa=0)'\n",
    "f_test = reg.f_test(hypotheses)\n",
    "print(f_test)"
   ]
  },
  {
   "cell_type": "markdown",
   "metadata": {},
   "source": [
    "<p>𝐻<sub>0</sub>: 𝛽𝑎𝑐𝑡𝑚𝑡ℎ = 𝛽ℎ𝑠𝑔𝑝𝑎\n",
    "    <br>𝐻<sub>1</sub>: 𝛽𝑎𝑐𝑡𝑚𝑡ℎ ≠ 𝛽ℎ𝑠𝑔𝑝𝑎</p>\n",
    "<p>Could be rewritten as:</p>\n",
    "<p>𝐻<sub>0</sub>: 𝛽𝑎𝑐𝑡𝑚𝑡ℎ − 𝛽ℎ𝑠𝑔𝑝𝑎 = 0\n",
    "    <br>𝐻<sub>1</sub>: 𝛽𝑎𝑐𝑡𝑚𝑡ℎ − 𝛽ℎ𝑠𝑔𝑝𝑎 ≠ 0</p>\n",
    "\n",
    "<p>the p-value of 0.000 was reported back. This means we reject the null hypothesis, which implies that the probability of the null hypothesis being true is ≈ 0.000</p>"
   ]
  },
  {
   "cell_type": "markdown",
   "metadata": {},
   "source": [
    "<h3>(d) Now include the variable study into the model. Using the formula for the F-statistic, test the\n",
    "null that impact of actmth, acteng, and study are all jointly equal to zero. Show your work and\n",
    "report the calculated F-statistic and p-value.</h3>"
   ]
  },
  {
   "cell_type": "code",
   "execution_count": 7,
   "metadata": {},
   "outputs": [
    {
     "name": "stdout",
     "output_type": "stream",
     "text": [
      "                            OLS Regression Results                            \n",
      "==============================================================================\n",
      "Dep. Variable:                 colgpa   R-squared:                       0.258\n",
      "Model:                            OLS   Adj. R-squared:                  0.254\n",
      "Method:                 Least Squares   F-statistic:                     70.38\n",
      "Date:                Thu, 09 Sep 2021   Prob (F-statistic):           3.69e-51\n",
      "Time:                        00:02:08   Log-Likelihood:                -530.19\n",
      "No. Observations:                 814   AIC:                             1070.\n",
      "Df Residuals:                     809   BIC:                             1094.\n",
      "Df Model:                           4                                         \n",
      "Covariance Type:            nonrobust                                         \n",
      "==============================================================================\n",
      "                 coef    std err          t      P>|t|      [0.025      0.975]\n",
      "------------------------------------------------------------------------------\n",
      "const         -0.0128      0.169     -0.075      0.940      -0.345       0.320\n",
      "hsgpa          0.6470      0.053     12.095      0.000       0.542       0.752\n",
      "actmth         0.0139      0.005      2.686      0.007       0.004       0.024\n",
      "acteng         0.0128      0.005      2.530      0.012       0.003       0.023\n",
      "study          0.0035      0.002      1.628      0.104      -0.001       0.008\n",
      "==============================================================================\n",
      "Omnibus:                       20.141   Durbin-Watson:                   1.949\n",
      "Prob(Omnibus):                  0.000   Jarque-Bera (JB):               20.962\n",
      "Skew:                          -0.384   Prob(JB):                     2.81e-05\n",
      "Kurtosis:                       3.170   Cond. No.                         380.\n",
      "==============================================================================\n",
      "\n",
      "Notes:\n",
      "[1] Standard Errors assume that the covariance matrix of the errors is correctly specified.\n"
     ]
    }
   ],
   "source": [
    "x = econmath_df[['hsgpa', 'actmth', 'acteng', 'study']]\n",
    "x = sm.add_constant(x)\n",
    "reg = sm.OLS(y,x).fit()\n",
    "print(reg.summary())"
   ]
  },
  {
   "cell_type": "code",
   "execution_count": 8,
   "metadata": {},
   "outputs": [
    {
     "name": "stdout",
     "output_type": "stream",
     "text": [
      "<F test: F=array([[7.70572089]]), p=4.429992896085183e-05, df_denom=809, df_num=3>\n"
     ]
    }
   ],
   "source": [
    "hypotheses = '(actmth=0), (acteng=0), (study=0)'\n",
    "f_test = reg.f_test(hypotheses)\n",
    "print(f_test)"
   ]
  },
  {
   "cell_type": "code",
   "execution_count": 16,
   "metadata": {},
   "outputs": [
    {
     "name": "stdout",
     "output_type": "stream",
     "text": [
      "The F critical value at 1% is\n",
      "3.8058973062495607\n",
      "The F critical value at 5% is\n",
      "2.615908847783631\n",
      "MSE is \n",
      "3.905615457458832\n"
     ]
    }
   ],
   "source": [
    "print('The F critical value at 1% is')\n",
    "print(ss.f.ppf(1-0.01,3,809))\n",
    "print('The F critical value at 5% is')\n",
    "print(ss.f.ppf(1-0.05,3,809))\n",
    "print('MSE is ')\n",
    "print(reg.mse_model)"
   ]
  },
  {
   "cell_type": "markdown",
   "metadata": {},
   "source": [
    "<p>Since F statistics is approximately 7.71, which is way above F critical value at 1% significance level, we reject the null hypothesis</p>\n",
    "\n",
    "<p>Also, the p value is approximately 0.000043, which is way below the alpha, we reject the null hypothesis with p value method as well, which corresponds with F test result</p>"
   ]
  },
  {
   "cell_type": "markdown",
   "metadata": {},
   "source": [
    "<h2>2) Using the data in SLEEP75.DTA, estimate the following]\n",
    "<br>\n",
    "<br>\n",
    "&emsp;    sleep = 𝛽<sub>0</sub> + 𝛽<sub>1</sub>totwrk + 𝛽<sub>2</sub>educ + 𝛽<sub>3</sub>age + u\n",
    "<br>\n",
    "<br>\n",
    "where sleep is minutes of sleep per week, totwrk is minutes of work per week, educ is years of schooling,\n",
    "and age is age in years.</h2>"
   ]
  },
  {
   "cell_type": "code",
   "execution_count": 15,
   "metadata": {},
   "outputs": [
    {
     "data": {
      "text/html": [
       "<div>\n",
       "<style scoped>\n",
       "    .dataframe tbody tr th:only-of-type {\n",
       "        vertical-align: middle;\n",
       "    }\n",
       "\n",
       "    .dataframe tbody tr th {\n",
       "        vertical-align: top;\n",
       "    }\n",
       "\n",
       "    .dataframe thead th {\n",
       "        text-align: right;\n",
       "    }\n",
       "</style>\n",
       "<table border=\"1\" class=\"dataframe\">\n",
       "  <thead>\n",
       "    <tr style=\"text-align: right;\">\n",
       "      <th></th>\n",
       "      <th>age</th>\n",
       "      <th>black</th>\n",
       "      <th>case</th>\n",
       "      <th>clerical</th>\n",
       "      <th>construc</th>\n",
       "      <th>educ</th>\n",
       "      <th>earns74</th>\n",
       "      <th>gdhlth</th>\n",
       "      <th>inlf</th>\n",
       "      <th>leis1</th>\n",
       "      <th>...</th>\n",
       "      <th>spwrk75</th>\n",
       "      <th>totwrk</th>\n",
       "      <th>union</th>\n",
       "      <th>worknrm</th>\n",
       "      <th>workscnd</th>\n",
       "      <th>exper</th>\n",
       "      <th>yngkid</th>\n",
       "      <th>yrsmarr</th>\n",
       "      <th>hrwage</th>\n",
       "      <th>agesq</th>\n",
       "    </tr>\n",
       "  </thead>\n",
       "  <tbody>\n",
       "    <tr>\n",
       "      <th>0</th>\n",
       "      <td>32</td>\n",
       "      <td>0</td>\n",
       "      <td>1</td>\n",
       "      <td>0.0</td>\n",
       "      <td>0.0</td>\n",
       "      <td>12</td>\n",
       "      <td>0.0</td>\n",
       "      <td>0</td>\n",
       "      <td>1</td>\n",
       "      <td>3529</td>\n",
       "      <td>...</td>\n",
       "      <td>0</td>\n",
       "      <td>3438</td>\n",
       "      <td>0</td>\n",
       "      <td>3438</td>\n",
       "      <td>0</td>\n",
       "      <td>14</td>\n",
       "      <td>0</td>\n",
       "      <td>13</td>\n",
       "      <td>7.070004</td>\n",
       "      <td>1024</td>\n",
       "    </tr>\n",
       "    <tr>\n",
       "      <th>1</th>\n",
       "      <td>31</td>\n",
       "      <td>0</td>\n",
       "      <td>2</td>\n",
       "      <td>0.0</td>\n",
       "      <td>0.0</td>\n",
       "      <td>14</td>\n",
       "      <td>9500.0</td>\n",
       "      <td>1</td>\n",
       "      <td>1</td>\n",
       "      <td>2140</td>\n",
       "      <td>...</td>\n",
       "      <td>0</td>\n",
       "      <td>5020</td>\n",
       "      <td>0</td>\n",
       "      <td>5020</td>\n",
       "      <td>0</td>\n",
       "      <td>11</td>\n",
       "      <td>0</td>\n",
       "      <td>0</td>\n",
       "      <td>1.429999</td>\n",
       "      <td>961</td>\n",
       "    </tr>\n",
       "    <tr>\n",
       "      <th>2</th>\n",
       "      <td>44</td>\n",
       "      <td>0</td>\n",
       "      <td>3</td>\n",
       "      <td>0.0</td>\n",
       "      <td>0.0</td>\n",
       "      <td>17</td>\n",
       "      <td>42500.0</td>\n",
       "      <td>1</td>\n",
       "      <td>1</td>\n",
       "      <td>4595</td>\n",
       "      <td>...</td>\n",
       "      <td>1</td>\n",
       "      <td>2815</td>\n",
       "      <td>0</td>\n",
       "      <td>2815</td>\n",
       "      <td>0</td>\n",
       "      <td>21</td>\n",
       "      <td>0</td>\n",
       "      <td>0</td>\n",
       "      <td>20.529997</td>\n",
       "      <td>1936</td>\n",
       "    </tr>\n",
       "    <tr>\n",
       "      <th>3</th>\n",
       "      <td>30</td>\n",
       "      <td>0</td>\n",
       "      <td>4</td>\n",
       "      <td>0.0</td>\n",
       "      <td>0.0</td>\n",
       "      <td>12</td>\n",
       "      <td>42500.0</td>\n",
       "      <td>1</td>\n",
       "      <td>1</td>\n",
       "      <td>3211</td>\n",
       "      <td>...</td>\n",
       "      <td>1</td>\n",
       "      <td>3786</td>\n",
       "      <td>0</td>\n",
       "      <td>3786</td>\n",
       "      <td>0</td>\n",
       "      <td>12</td>\n",
       "      <td>0</td>\n",
       "      <td>12</td>\n",
       "      <td>9.619998</td>\n",
       "      <td>900</td>\n",
       "    </tr>\n",
       "    <tr>\n",
       "      <th>4</th>\n",
       "      <td>64</td>\n",
       "      <td>0</td>\n",
       "      <td>5</td>\n",
       "      <td>0.0</td>\n",
       "      <td>0.0</td>\n",
       "      <td>14</td>\n",
       "      <td>2500.0</td>\n",
       "      <td>1</td>\n",
       "      <td>1</td>\n",
       "      <td>4052</td>\n",
       "      <td>...</td>\n",
       "      <td>1</td>\n",
       "      <td>2580</td>\n",
       "      <td>0</td>\n",
       "      <td>2580</td>\n",
       "      <td>0</td>\n",
       "      <td>44</td>\n",
       "      <td>0</td>\n",
       "      <td>33</td>\n",
       "      <td>2.750000</td>\n",
       "      <td>4096</td>\n",
       "    </tr>\n",
       "  </tbody>\n",
       "</table>\n",
       "<p>5 rows × 34 columns</p>\n",
       "</div>"
      ],
      "text/plain": [
       "   age  black  case  clerical  construc  educ  earns74  gdhlth  inlf  leis1  \\\n",
       "0   32      0     1       0.0       0.0    12      0.0       0     1   3529   \n",
       "1   31      0     2       0.0       0.0    14   9500.0       1     1   2140   \n",
       "2   44      0     3       0.0       0.0    17  42500.0       1     1   4595   \n",
       "3   30      0     4       0.0       0.0    12  42500.0       1     1   3211   \n",
       "4   64      0     5       0.0       0.0    14   2500.0       1     1   4052   \n",
       "\n",
       "   ...  spwrk75  totwrk  union  worknrm  workscnd  exper  yngkid  yrsmarr  \\\n",
       "0  ...        0    3438      0     3438         0     14       0       13   \n",
       "1  ...        0    5020      0     5020         0     11       0        0   \n",
       "2  ...        1    2815      0     2815         0     21       0        0   \n",
       "3  ...        1    3786      0     3786         0     12       0       12   \n",
       "4  ...        1    2580      0     2580         0     44       0       33   \n",
       "\n",
       "      hrwage  agesq  \n",
       "0   7.070004   1024  \n",
       "1   1.429999    961  \n",
       "2  20.529997   1936  \n",
       "3   9.619998    900  \n",
       "4   2.750000   4096  \n",
       "\n",
       "[5 rows x 34 columns]"
      ]
     },
     "execution_count": 15,
     "metadata": {},
     "output_type": "execute_result"
    }
   ],
   "source": [
    "sleep75_df = pd.read_stata('SLEEP75.dta')\n",
    "sleep75_df.dropna(subset=['totwrk','educ','age'])\n",
    "sleep75_df.head(5)"
   ]
  },
  {
   "cell_type": "code",
   "execution_count": 16,
   "metadata": {},
   "outputs": [
    {
     "name": "stdout",
     "output_type": "stream",
     "text": [
      "                            OLS Regression Results                            \n",
      "==============================================================================\n",
      "Dep. Variable:                  sleep   R-squared:                       0.113\n",
      "Model:                            OLS   Adj. R-squared:                  0.110\n",
      "Method:                 Least Squares   F-statistic:                     29.92\n",
      "Date:                Thu, 09 Sep 2021   Prob (F-statistic):           3.28e-18\n",
      "Time:                        00:22:49   Log-Likelihood:                -5263.1\n",
      "No. Observations:                 706   AIC:                         1.053e+04\n",
      "Df Residuals:                     702   BIC:                         1.055e+04\n",
      "Df Model:                           3                                         \n",
      "Covariance Type:            nonrobust                                         \n",
      "==============================================================================\n",
      "                 coef    std err          t      P>|t|      [0.025      0.975]\n",
      "------------------------------------------------------------------------------\n",
      "const       3638.2453    112.275     32.405      0.000    3417.810    3858.681\n",
      "totwrk        -0.1484      0.017     -8.888      0.000      -0.181      -0.116\n",
      "educ         -11.1338      5.885     -1.892      0.059     -22.687       0.420\n",
      "age            2.1999      1.446      1.522      0.129      -0.639       5.038\n",
      "==============================================================================\n",
      "Omnibus:                       68.731   Durbin-Watson:                   1.943\n",
      "Prob(Omnibus):                  0.000   Jarque-Bera (JB):              185.551\n",
      "Skew:                          -0.496   Prob(JB):                     5.11e-41\n",
      "Kurtosis:                       5.308   Cond. No.                     1.66e+04\n",
      "==============================================================================\n",
      "\n",
      "Notes:\n",
      "[1] Standard Errors assume that the covariance matrix of the errors is correctly specified.\n",
      "[2] The condition number is large, 1.66e+04. This might indicate that there are\n",
      "strong multicollinearity or other numerical problems.\n"
     ]
    }
   ],
   "source": [
    "x = sleep75_df[['totwrk', 'educ', 'age']]\n",
    "y = sleep75_df[['sleep']]\n",
    "x = sm.add_constant(x)\n",
    "reg = sm.OLS(y,x).fit()\n",
    "print(reg.summary())"
   ]
  },
  {
   "cell_type": "markdown",
   "metadata": {},
   "source": [
    "<h3>(a) Is either age or educ individually signi",
    "cant at the 5% level against a two-sided alternative with\n",
    "the hypothesized value equal to zero? Explain and show your work.</h3>"
   ]
  },
  {
   "cell_type": "code",
   "execution_count": 17,
   "metadata": {},
   "outputs": [
    {
     "data": {
      "text/plain": [
       "1.9633490231077653"
      ]
     },
     "execution_count": 17,
     "metadata": {},
     "output_type": "execute_result"
    }
   ],
   "source": [
    "ss.t.ppf(q=1-.05/2,df=702) # t critical value"
   ]
  },
  {
   "cell_type": "markdown",
   "metadata": {},
   "source": [
    "<p>the t critical value is approximately 1.96.</p>\n",
    "<p>For educ, the t-statistics is -1.89, which makes |tc| > |tB|, and the p-value of 0.059, which is higher than 0.05, imply that we fail to reject the null hypothesis for educ by both t-statistics method and p-value method at the significance level of 5%.</p>\n",
    "<p>As for age, the t-statistics is 1.52, which makes |tc| > |tB|, and the p-value of 0.129, which is higher than 0.05, imply that we fail to reject the null hypothesis for age by both\n",
    "t-statistics method and p-value method at the significance level of 5%.</p>"
   ]
  },
  {
   "cell_type": "markdown",
   "metadata": {},
   "source": [
    "<h3>(b) Are educ and age jointly signi",
    "cant at the 5% level? Compute the F-statistic using the formula,\n",
    "and then state clearly whether you would reject or fail to reject the null.</h3>"
   ]
  },
  {
   "cell_type": "code",
   "execution_count": 18,
   "metadata": {},
   "outputs": [
    {
     "name": "stdout",
     "output_type": "stream",
     "text": [
      "<F test: F=array([[3.9890998]]), p=0.018937671866617236, df_denom=702, df_num=2>\n"
     ]
    }
   ],
   "source": [
    "hypotheses = '(educ=0), (age=0)'\n",
    "f_test = reg.f_test(hypotheses)\n",
    "print(f_test)"
   ]
  },
  {
   "cell_type": "code",
   "execution_count": 19,
   "metadata": {},
   "outputs": [
    {
     "name": "stdout",
     "output_type": "stream",
     "text": [
      "The F critical value is\n",
      "3.0085527837787773\n"
     ]
    }
   ],
   "source": [
    "print('The F critical value is')\n",
    "print(ss.f.ppf(1-0.05,2,702))"
   ]
  },
  {
   "cell_type": "markdown",
   "metadata": {},
   "source": [
    "<p>Since F statistics value is approximately 3.99, which is higher than F critical value, which is approximately 3.009, we reject the null hypothesis by F test method</p>\n",
    "\n",
    "<p>Also, the p value is approximately 0.0189, which is a bit higher than 0.01 but way below 0.05, we fail to reject the null hypothesis at 1% significance level but reject the null hypothesis at 5% significance level</p>"
   ]
  },
  {
   "cell_type": "code",
   "execution_count": null,
   "metadata": {},
   "outputs": [],
   "source": []
  }
 ],
 "metadata": {
  "kernelspec": {
   "display_name": "Python 3",
   "language": "python",
   "name": "python3"
  },
  "language_info": {
   "codemirror_mode": {
    "name": "ipython",
    "version": 3
   },
   "file_extension": ".py",
   "mimetype": "text/x-python",
   "name": "python",
   "nbconvert_exporter": "python",
   "pygments_lexer": "ipython3",
   "version": "3.8.1"
  }
 },
 "nbformat": 4,
 "nbformat_minor": 4
}
