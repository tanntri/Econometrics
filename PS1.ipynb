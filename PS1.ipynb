{
 "cells": [
  {
   "cell_type": "code",
   "execution_count": 3,
   "metadata": {},
   "outputs": [],
   "source": [
    "import numpy as np\n",
    "import pandas as pd\n",
    "import statsmodels.api as sm"
   ]
  },
  {
   "cell_type": "markdown",
   "metadata": {},
   "source": [
    "<h2>2) Use the data set BWGHT.DTA that is posted on Canvas and answer the following questions:</h2>"
   ]
  },
  {
   "cell_type": "markdown",
   "metadata": {},
   "source": [
    "<h3>(a) How many women are in the sample, and how many report smoking during pregnancy (any\n",
    "amount greater than zero cigarettes)?</h3>"
   ]
  },
  {
   "cell_type": "code",
   "execution_count": 4,
   "metadata": {},
   "outputs": [
    {
     "data": {
      "text/html": [
       "<div>\n",
       "<style scoped>\n",
       "    .dataframe tbody tr th:only-of-type {\n",
       "        vertical-align: middle;\n",
       "    }\n",
       "\n",
       "    .dataframe tbody tr th {\n",
       "        vertical-align: top;\n",
       "    }\n",
       "\n",
       "    .dataframe thead th {\n",
       "        text-align: right;\n",
       "    }\n",
       "</style>\n",
       "<table border=\"1\" class=\"dataframe\">\n",
       "  <thead>\n",
       "    <tr style=\"text-align: right;\">\n",
       "      <th></th>\n",
       "      <th>faminc</th>\n",
       "      <th>cigtax</th>\n",
       "      <th>cigprice</th>\n",
       "      <th>bwght</th>\n",
       "      <th>fatheduc</th>\n",
       "      <th>motheduc</th>\n",
       "      <th>parity</th>\n",
       "      <th>male</th>\n",
       "      <th>white</th>\n",
       "      <th>cigs</th>\n",
       "      <th>lbwght</th>\n",
       "      <th>bwghtlbs</th>\n",
       "      <th>packs</th>\n",
       "      <th>lfaminc</th>\n",
       "      <th>id</th>\n",
       "    </tr>\n",
       "  </thead>\n",
       "  <tbody>\n",
       "    <tr>\n",
       "      <th>0</th>\n",
       "      <td>13.5</td>\n",
       "      <td>16.5</td>\n",
       "      <td>122.300003</td>\n",
       "      <td>109</td>\n",
       "      <td>12.0</td>\n",
       "      <td>12.0</td>\n",
       "      <td>1</td>\n",
       "      <td>1</td>\n",
       "      <td>1</td>\n",
       "      <td>0</td>\n",
       "      <td>4.691348</td>\n",
       "      <td>6.8125</td>\n",
       "      <td>0.0</td>\n",
       "      <td>2.602690</td>\n",
       "      <td>1.0</td>\n",
       "    </tr>\n",
       "    <tr>\n",
       "      <th>1</th>\n",
       "      <td>7.5</td>\n",
       "      <td>16.5</td>\n",
       "      <td>122.300003</td>\n",
       "      <td>133</td>\n",
       "      <td>6.0</td>\n",
       "      <td>12.0</td>\n",
       "      <td>2</td>\n",
       "      <td>1</td>\n",
       "      <td>0</td>\n",
       "      <td>0</td>\n",
       "      <td>4.890349</td>\n",
       "      <td>8.3125</td>\n",
       "      <td>0.0</td>\n",
       "      <td>2.014903</td>\n",
       "      <td>2.0</td>\n",
       "    </tr>\n",
       "    <tr>\n",
       "      <th>2</th>\n",
       "      <td>0.5</td>\n",
       "      <td>16.5</td>\n",
       "      <td>122.300003</td>\n",
       "      <td>129</td>\n",
       "      <td>NaN</td>\n",
       "      <td>12.0</td>\n",
       "      <td>2</td>\n",
       "      <td>0</td>\n",
       "      <td>0</td>\n",
       "      <td>0</td>\n",
       "      <td>4.859812</td>\n",
       "      <td>8.0625</td>\n",
       "      <td>0.0</td>\n",
       "      <td>-0.693147</td>\n",
       "      <td>3.0</td>\n",
       "    </tr>\n",
       "    <tr>\n",
       "      <th>3</th>\n",
       "      <td>15.5</td>\n",
       "      <td>16.5</td>\n",
       "      <td>122.300003</td>\n",
       "      <td>126</td>\n",
       "      <td>12.0</td>\n",
       "      <td>12.0</td>\n",
       "      <td>2</td>\n",
       "      <td>1</td>\n",
       "      <td>0</td>\n",
       "      <td>0</td>\n",
       "      <td>4.836282</td>\n",
       "      <td>7.8750</td>\n",
       "      <td>0.0</td>\n",
       "      <td>2.740840</td>\n",
       "      <td>4.0</td>\n",
       "    </tr>\n",
       "    <tr>\n",
       "      <th>4</th>\n",
       "      <td>27.5</td>\n",
       "      <td>16.5</td>\n",
       "      <td>122.300003</td>\n",
       "      <td>134</td>\n",
       "      <td>14.0</td>\n",
       "      <td>12.0</td>\n",
       "      <td>2</td>\n",
       "      <td>1</td>\n",
       "      <td>1</td>\n",
       "      <td>0</td>\n",
       "      <td>4.897840</td>\n",
       "      <td>8.3750</td>\n",
       "      <td>0.0</td>\n",
       "      <td>3.314186</td>\n",
       "      <td>5.0</td>\n",
       "    </tr>\n",
       "  </tbody>\n",
       "</table>\n",
       "</div>"
      ],
      "text/plain": [
       "   faminc  cigtax    cigprice  bwght  fatheduc  motheduc  parity  male  white  \\\n",
       "0    13.5    16.5  122.300003    109      12.0      12.0       1     1      1   \n",
       "1     7.5    16.5  122.300003    133       6.0      12.0       2     1      0   \n",
       "2     0.5    16.5  122.300003    129       NaN      12.0       2     0      0   \n",
       "3    15.5    16.5  122.300003    126      12.0      12.0       2     1      0   \n",
       "4    27.5    16.5  122.300003    134      14.0      12.0       2     1      1   \n",
       "\n",
       "   cigs    lbwght  bwghtlbs  packs   lfaminc   id  \n",
       "0     0  4.691348    6.8125    0.0  2.602690  1.0  \n",
       "1     0  4.890349    8.3125    0.0  2.014903  2.0  \n",
       "2     0  4.859812    8.0625    0.0 -0.693147  3.0  \n",
       "3     0  4.836282    7.8750    0.0  2.740840  4.0  \n",
       "4     0  4.897840    8.3750    0.0  3.314186  5.0  "
      ]
     },
     "execution_count": 4,
     "metadata": {},
     "output_type": "execute_result"
    }
   ],
   "source": [
    "df = pd.read_stata('BWGHT.dta')\n",
    "df.head()"
   ]
  },
  {
   "cell_type": "code",
   "execution_count": 19,
   "metadata": {},
   "outputs": [
    {
     "name": "stdout",
     "output_type": "stream",
     "text": [
      "There are 1200 women in the sample, in which 184 women smoked during pregnancy\n"
     ]
    }
   ],
   "source": [
    "women_num = len(df) # number of women in the sample\n",
    "df_smokers = df[df['cigs'] > 0] # new dataframe containing women who smoked during pregnancy\n",
    "\n",
    "print(f'There are {women_num} women in the sample, in which {len(df_smokers)} women smoked during pregnancy') "
   ]
  },
  {
   "cell_type": "markdown",
   "metadata": {},
   "source": [
    "<p>There are 1200 women in the sample, in which 184 women smoked during pregnancy</p>"
   ]
  },
  {
   "cell_type": "markdown",
   "metadata": {},
   "source": [
    "<h3>(b) What is the average number of cigarettes smoked per day? Is the average a goodmeasure of the\n",
    "typical woman in this case? Why?<h3>"
   ]
  },
  {
   "cell_type": "code",
   "execution_count": 22,
   "metadata": {},
   "outputs": [
    {
     "data": {
      "text/plain": [
       "2.0416666666666665"
      ]
     },
     "execution_count": 22,
     "metadata": {},
     "output_type": "execute_result"
    }
   ],
   "source": [
    "df['cigs'].mean() # average cigarettes smoked"
   ]
  },
  {
   "cell_type": "markdown",
   "metadata": {},
   "source": [
    "The average cigarettes smoked per day is 2.041667 cigarettes per day. This average is not a good measure since it includes women who do not smoke, which is the majority in the sample, in the calculation. This would make the average number of cigarettes smoked per day too few and the study could potentially show inaccurate results."
   ]
  },
  {
   "cell_type": "markdown",
   "metadata": {},
   "source": [
    "<h3>(c) Among women who smoked during pregnancy, what is the average number of cigarettes smoked\n",
    "per day? How does this compare to your answer in part (b), and why?</h3>"
   ]
  },
  {
   "cell_type": "code",
   "execution_count": 23,
   "metadata": {},
   "outputs": [
    {
     "data": {
      "text/plain": [
       "13.315217391304348"
      ]
     },
     "execution_count": 23,
     "metadata": {},
     "output_type": "execute_result"
    }
   ],
   "source": [
    "df_smokers['cigs'].mean()"
   ]
  },
  {
   "cell_type": "markdown",
   "metadata": {},
   "source": [
    "<p>Among women who smoke during pregnancy, the average number of cigarettes smoked per day is 13.31522 cigarettes per day. This number is a lot larger than the part b)’s average number. The reason is because most women in the sample do not smoke during pregnancy. The number of women who do not smoke during pregnancy is almost seven times larger than women who smoke during the pregnancy. From the dataset, there are 2450 cigarettes smoked per day in total. The average in part b) would be the result of 2450/1200 , while part c) would be the result of 2450/184.</p>"
   ]
  },
  {
   "cell_type": "markdown",
   "metadata": {},
   "source": [
    "<h3>(d) Find the average of fatheduc in the sample. Why are only 1,033 observations used to compute\n",
    "this average?</h3>"
   ]
  },
  {
   "cell_type": "code",
   "execution_count": 31,
   "metadata": {},
   "outputs": [
    {
     "name": "stdout",
     "output_type": "stream",
     "text": [
      "1033\n"
     ]
    }
   ],
   "source": [
    "df_fatheduc = df.dropna(subset=['fatheduc']) # drop a row if a value for 'fatheduc' is missing\n",
    "print(len(df_fatheduc)) # length of the dataframe after dropping rows with no value for 'fatheduc'"
   ]
  },
  {
   "cell_type": "code",
   "execution_count": 33,
   "metadata": {},
   "outputs": [
    {
     "data": {
      "text/plain": [
       "13.205227492739594"
      ]
     },
     "execution_count": 33,
     "metadata": {},
     "output_type": "execute_result"
    }
   ],
   "source": [
    "df_fatheduc['fatheduc'].mean() # average value for fatheduc"
   ]
  },
  {
   "cell_type": "markdown",
   "metadata": {},
   "source": [
    "<p>The average of fatheduc in the sample is 13.20523. The reason there are only 1033 samples in the calculation is because there are 167 samples that are missing in fatheduc. In the real world reason, it could be from divorce or death of the father.</p>"
   ]
  },
  {
   "cell_type": "markdown",
   "metadata": {},
   "source": [
    "<h3>(e) Report the average family income and its standard deviation in dollars?</h3>"
   ]
  },
  {
   "cell_type": "code",
   "execution_count": 38,
   "metadata": {},
   "outputs": [
    {
     "name": "stdout",
     "output_type": "stream",
     "text": [
      "29471.250534057617\n",
      "18846.51756286621\n"
     ]
    }
   ],
   "source": [
    "print(df['faminc'].mean() * 1000)\n",
    "print(df['faminc'].std() * 1000)"
   ]
  },
  {
   "cell_type": "markdown",
   "metadata": {},
   "source": [
    "<p>The average family income is 29471.25 dollars. The standard deviation is 18846.52 dollars.</p>"
   ]
  },
  {
   "cell_type": "markdown",
   "metadata": {},
   "source": [
    "***"
   ]
  },
  {
   "cell_type": "markdown",
   "metadata": {},
   "source": [
    "<h2>3. Let kids denote the number of children ever born to a woman, and let educ denote years of education\n",
    "for the woman. A simple model relating fertility to years of education is\n",
    "<br>\n",
    "<br>\n",
    "&emsp;kids = β<sub>0</sub> + β<sub>1</sub>educ + u;\n",
    "<br>\n",
    "<br>\n",
    "where u is the unobserved error.</h2>"
   ]
  },
  {
   "cell_type": "markdown",
   "metadata": {},
   "source": [
    "<h3>(a) What kind of factors are contained in u? Are these likely to be correlated with the level of\n",
    "education?</h3>"
   ]
  },
  {
   "cell_type": "markdown",
   "metadata": {},
   "source": [
    "<p>The factors could be something like family income, household location, marriage status, etc. These are likely to be correlated with the level of education. For example, lower number of education years could be the reason for lower family income.</p>"
   ]
  },
  {
   "cell_type": "markdown",
   "metadata": {},
   "source": [
    "<h3>(b) Will a simple regression analysis uncover the ceteris paribus e¤ect of education on fertility? Explain.</h3>"
   ]
  },
  {
   "cell_type": "markdown",
   "metadata": {},
   "source": [
    "<p>A simple regression analysis could uncover the ceteris paribus effect of education on fertility assuming E(u) = 0 and/or Δ𝑢 = 0</p>"
   ]
  },
  {
   "cell_type": "markdown",
   "metadata": {},
   "source": [
    "<h2>4. As noticed from problem 2, the data set BWGHT.DTA contains data on births to women in the\n",
    "United States. Two of the variables of interest are the dependent variable, infant birth weight (bwght),\n",
    "and an explanatory variable, average number of cigarettes the mother smoked per day during pregnancy\n",
    "(cigs). Using the data and what weve learned so far, answer the following questions:</h2>"
   ]
  },
  {
   "cell_type": "markdown",
   "metadata": {},
   "source": [
    "<h3>(a) Obtain estimates for β<sub>0</sub> and β<sub>1</sub> and write down the estimated OLS regression line.</h3>"
   ]
  },
  {
   "cell_type": "code",
   "execution_count": 44,
   "metadata": {},
   "outputs": [],
   "source": [
    "x = df[['cigs']] # set x variables\n",
    "y = df[['bwght']] # set y variable\n",
    "x = sm.add_constant(x) # add constant to the model"
   ]
  },
  {
   "cell_type": "code",
   "execution_count": 45,
   "metadata": {},
   "outputs": [],
   "source": [
    "reg = sm.OLS(y,x).fit() # fit the model"
   ]
  },
  {
   "cell_type": "code",
   "execution_count": 46,
   "metadata": {},
   "outputs": [
    {
     "name": "stdout",
     "output_type": "stream",
     "text": [
      "                            OLS Regression Results                            \n",
      "==============================================================================\n",
      "Dep. Variable:                  bwght   R-squared:                       0.022\n",
      "Model:                            OLS   Adj. R-squared:                  0.021\n",
      "Method:                 Least Squares   F-statistic:                     26.37\n",
      "Date:                Wed, 08 Sep 2021   Prob (F-statistic):           3.28e-07\n",
      "Time:                        17:12:10   Log-Likelihood:                -5295.5\n",
      "No. Observations:                1200   AIC:                         1.059e+04\n",
      "Df Residuals:                    1198   BIC:                         1.061e+04\n",
      "Df Model:                           1                                         \n",
      "Covariance Type:            nonrobust                                         \n",
      "==============================================================================\n",
      "                 coef    std err          t      P>|t|      [0.025      0.975]\n",
      "------------------------------------------------------------------------------\n",
      "const        119.6172      0.612    195.436      0.000     118.416     120.818\n",
      "cigs          -0.5150      0.100     -5.136      0.000      -0.712      -0.318\n",
      "==============================================================================\n",
      "Omnibus:                      118.858   Durbin-Watson:                   1.897\n",
      "Prob(Omnibus):                  0.000   Jarque-Bera (JB):              731.688\n",
      "Skew:                          -0.194   Prob(JB):                    1.31e-159\n",
      "Kurtosis:                       6.806   Cond. No.                         6.50\n",
      "==============================================================================\n",
      "\n",
      "Notes:\n",
      "[1] Standard Errors assume that the covariance matrix of the errors is correctly specified.\n"
     ]
    }
   ],
   "source": [
    "print(reg.summary()) # print the OLS"
   ]
  },
  {
   "cell_type": "markdown",
   "metadata": {},
   "source": [
    "<p>𝛽<sub>0</sub> = 119.6172, 𝛽<sub>1</sub> = -0.5149691.\n",
    "<br>\n",
    "<br>\n",
    "The estimated OLS regression line is \n",
    "<br>\n",
    "<br>\n",
    "𝑏𝑤𝑔ℎ𝑡=119.6172−0.5149691 𝑐𝑖𝑔𝑠</p>"
   ]
  },
  {
   "cell_type": "markdown",
   "metadata": {},
   "source": [
    "<h3>(b) What is the predicted birth weight when cigs = 0? What about when cigs = 20? Comment on\n",
    "the di¤erence.</h3>"
   ]
  },
  {
   "cell_type": "markdown",
   "metadata": {},
   "source": [
    "<p>Predicted birth weight when cigs = 0 → 119.6172 – 0.5149691 (0) = 119.6172 \n",
    "<br>\n",
    "Predicted birth weight when cigs = 20 → 119.617 – 0.5149691 (20) = 109.317618</p>"
   ]
  },
  {
   "cell_type": "markdown",
   "metadata": {},
   "source": [
    "<h3>(c) Does this simple regression necessarily capture a causal relationship between the childs birth\n",
    "weight and the mothers smoking habits? Why or why not?</h3>"
   ]
  },
  {
   "cell_type": "markdown",
   "metadata": {},
   "source": [
    "<p>This simple regression does not necessarily capture a causal relationship between a child’s birth weight and mother’s smoking habit since R2 is only 0.022, which implies that mother’s smoking habit only explains about 2.2% of the variation in child’s birth weight.</p>"
   ]
  },
  {
   "cell_type": "markdown",
   "metadata": {},
   "source": [
    "<h3>(d) Given your estimated regression equation in (a), to predict a birth weight of 125 ounces, what\n",
    "would cigs have to be? Comment.</h3>"
   ]
  },
  {
   "cell_type": "markdown",
   "metadata": {},
   "source": [
    "<p>cigs have to be -10.4527, which is impossible since people can’t smoke a negative number of cigarettes.</p>"
   ]
  },
  {
   "cell_type": "markdown",
   "metadata": {},
   "source": [
    "<h3>(e) The proportion of women in the sample who do not smoke while pregnant is about 0:85. Does\n",
    "this help reconcile your findings from part (d)?</h3>"
   ]
  },
  {
   "cell_type": "markdown",
   "metadata": {},
   "source": [
    "<p>Apart from using only one factor (cigs) to determine the birth weight of children. It makes sense that the results in d) would be inaccurate since most women in the sample do not smoke during pregnancy. If the sample were to have more women who smoke, there would be more variation which could make the results more accurate.</p>"
   ]
  },
  {
   "cell_type": "code",
   "execution_count": null,
   "metadata": {},
   "outputs": [],
   "source": []
  }
 ],
 "metadata": {
  "kernelspec": {
   "display_name": "Python 3",
   "language": "python",
   "name": "python3"
  },
  "language_info": {
   "codemirror_mode": {
    "name": "ipython",
    "version": 3
   },
   "file_extension": ".py",
   "mimetype": "text/x-python",
   "name": "python",
   "nbconvert_exporter": "python",
   "pygments_lexer": "ipython3",
   "version": "3.8.1"
  }
 },
 "nbformat": 4,
 "nbformat_minor": 4
}
