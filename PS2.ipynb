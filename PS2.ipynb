{
 "cells": [
  {
   "cell_type": "code",
   "execution_count": 1,
   "metadata": {},
   "outputs": [],
   "source": [
    "import pandas as pd\n",
    "import statsmodels.api as sm\n",
    "import statsmodels.formula.api as smf\n",
    "import numpy as np\n",
    "import scipy.stats as ss"
   ]
  },
  {
   "cell_type": "markdown",
   "metadata": {},
   "source": [
    "<h2>1) Using the posted data set WAGE2.DTA, estimate a model where you regress years of education (educ)\n",
    "on the number of siblings (sibs), mothers education (meduc), and fathers education (feduc).</h2>"
   ]
  },
  {
   "cell_type": "markdown",
   "metadata": {},
   "source": [
    "<h3>(a) Write down the estimated regression equation.</h3>"
   ]
  },
  {
   "cell_type": "markdown",
   "metadata": {},
   "source": [
    "𝑒𝑑𝑢𝑐̂ = 𝛽<sub>0</sub> + 𝛽<sub>1</sub> 𝑠𝑖𝑏𝑠 + 𝛽<sub>2</sub> 𝑚𝑒𝑑𝑢𝑐 + 𝛽<sub>3</sub> 𝑓𝑒𝑑𝑢𝑐\n",
    "<br>\n",
    "&emsp;    = 10.36426 − 0.0936359 𝑠𝑖𝑏𝑠 + 0.1307872 𝑚𝑒𝑑𝑢𝑐 + 0.2100041 𝑓𝑒𝑑𝑢𝑐"
   ]
  },
  {
   "cell_type": "code",
   "execution_count": 4,
   "metadata": {},
   "outputs": [
    {
     "data": {
      "text/html": [
       "<div>\n",
       "<style scoped>\n",
       "    .dataframe tbody tr th:only-of-type {\n",
       "        vertical-align: middle;\n",
       "    }\n",
       "\n",
       "    .dataframe tbody tr th {\n",
       "        vertical-align: top;\n",
       "    }\n",
       "\n",
       "    .dataframe thead th {\n",
       "        text-align: right;\n",
       "    }\n",
       "</style>\n",
       "<table border=\"1\" class=\"dataframe\">\n",
       "  <thead>\n",
       "    <tr style=\"text-align: right;\">\n",
       "      <th></th>\n",
       "      <th>wage</th>\n",
       "      <th>hours</th>\n",
       "      <th>IQ</th>\n",
       "      <th>KWW</th>\n",
       "      <th>educ</th>\n",
       "      <th>exper</th>\n",
       "      <th>tenure</th>\n",
       "      <th>age</th>\n",
       "      <th>married</th>\n",
       "      <th>black</th>\n",
       "      <th>south</th>\n",
       "      <th>urban</th>\n",
       "      <th>sibs</th>\n",
       "      <th>brthord</th>\n",
       "      <th>meduc</th>\n",
       "      <th>feduc</th>\n",
       "      <th>lwage</th>\n",
       "    </tr>\n",
       "  </thead>\n",
       "  <tbody>\n",
       "    <tr>\n",
       "      <th>0</th>\n",
       "      <td>769</td>\n",
       "      <td>40</td>\n",
       "      <td>93</td>\n",
       "      <td>35</td>\n",
       "      <td>12</td>\n",
       "      <td>11</td>\n",
       "      <td>2</td>\n",
       "      <td>31</td>\n",
       "      <td>1</td>\n",
       "      <td>0</td>\n",
       "      <td>0</td>\n",
       "      <td>1</td>\n",
       "      <td>1</td>\n",
       "      <td>2.0</td>\n",
       "      <td>8.0</td>\n",
       "      <td>8.0</td>\n",
       "      <td>6.645091</td>\n",
       "    </tr>\n",
       "    <tr>\n",
       "      <th>1</th>\n",
       "      <td>808</td>\n",
       "      <td>50</td>\n",
       "      <td>119</td>\n",
       "      <td>41</td>\n",
       "      <td>18</td>\n",
       "      <td>11</td>\n",
       "      <td>16</td>\n",
       "      <td>37</td>\n",
       "      <td>1</td>\n",
       "      <td>0</td>\n",
       "      <td>0</td>\n",
       "      <td>1</td>\n",
       "      <td>1</td>\n",
       "      <td>NaN</td>\n",
       "      <td>14.0</td>\n",
       "      <td>14.0</td>\n",
       "      <td>6.694562</td>\n",
       "    </tr>\n",
       "    <tr>\n",
       "      <th>2</th>\n",
       "      <td>825</td>\n",
       "      <td>40</td>\n",
       "      <td>108</td>\n",
       "      <td>46</td>\n",
       "      <td>14</td>\n",
       "      <td>11</td>\n",
       "      <td>9</td>\n",
       "      <td>33</td>\n",
       "      <td>1</td>\n",
       "      <td>0</td>\n",
       "      <td>0</td>\n",
       "      <td>1</td>\n",
       "      <td>1</td>\n",
       "      <td>2.0</td>\n",
       "      <td>14.0</td>\n",
       "      <td>14.0</td>\n",
       "      <td>6.715384</td>\n",
       "    </tr>\n",
       "    <tr>\n",
       "      <th>3</th>\n",
       "      <td>650</td>\n",
       "      <td>40</td>\n",
       "      <td>96</td>\n",
       "      <td>32</td>\n",
       "      <td>12</td>\n",
       "      <td>13</td>\n",
       "      <td>7</td>\n",
       "      <td>32</td>\n",
       "      <td>1</td>\n",
       "      <td>0</td>\n",
       "      <td>0</td>\n",
       "      <td>1</td>\n",
       "      <td>4</td>\n",
       "      <td>3.0</td>\n",
       "      <td>12.0</td>\n",
       "      <td>12.0</td>\n",
       "      <td>6.476973</td>\n",
       "    </tr>\n",
       "    <tr>\n",
       "      <th>4</th>\n",
       "      <td>562</td>\n",
       "      <td>40</td>\n",
       "      <td>74</td>\n",
       "      <td>27</td>\n",
       "      <td>11</td>\n",
       "      <td>14</td>\n",
       "      <td>5</td>\n",
       "      <td>34</td>\n",
       "      <td>1</td>\n",
       "      <td>0</td>\n",
       "      <td>0</td>\n",
       "      <td>1</td>\n",
       "      <td>10</td>\n",
       "      <td>6.0</td>\n",
       "      <td>6.0</td>\n",
       "      <td>11.0</td>\n",
       "      <td>6.331502</td>\n",
       "    </tr>\n",
       "  </tbody>\n",
       "</table>\n",
       "</div>"
      ],
      "text/plain": [
       "   wage  hours   IQ  KWW  educ  exper  tenure  age  married  black  south  \\\n",
       "0   769     40   93   35    12     11       2   31        1      0      0   \n",
       "1   808     50  119   41    18     11      16   37        1      0      0   \n",
       "2   825     40  108   46    14     11       9   33        1      0      0   \n",
       "3   650     40   96   32    12     13       7   32        1      0      0   \n",
       "4   562     40   74   27    11     14       5   34        1      0      0   \n",
       "\n",
       "   urban  sibs  brthord  meduc  feduc     lwage  \n",
       "0      1     1      2.0    8.0    8.0  6.645091  \n",
       "1      1     1      NaN   14.0   14.0  6.694562  \n",
       "2      1     1      2.0   14.0   14.0  6.715384  \n",
       "3      1     4      3.0   12.0   12.0  6.476973  \n",
       "4      1    10      6.0    6.0   11.0  6.331502  "
      ]
     },
     "execution_count": 4,
     "metadata": {},
     "output_type": "execute_result"
    }
   ],
   "source": [
    "wage_df = pd.read_stata('WAGE2.dta')\n",
    "wage_df = wage_df.dropna(subset=['meduc', 'feduc'])\n",
    "wage_df.reset_index(drop=True, inplace=True)\n",
    "wage_df.head(5)"
   ]
  },
  {
   "cell_type": "code",
   "execution_count": 5,
   "metadata": {},
   "outputs": [],
   "source": [
    "x = wage_df[['sibs', 'meduc', 'feduc']]\n",
    "y = wage_df[['educ']]\n",
    "x = sm.add_constant(x)"
   ]
  },
  {
   "cell_type": "code",
   "execution_count": 6,
   "metadata": {},
   "outputs": [
    {
     "name": "stdout",
     "output_type": "stream",
     "text": [
      "                            OLS Regression Results                            \n",
      "==============================================================================\n",
      "Dep. Variable:                   educ   R-squared:                       0.214\n",
      "Model:                            OLS   Adj. R-squared:                  0.211\n",
      "Method:                 Least Squares   F-statistic:                     65.20\n",
      "Date:                Wed, 08 Sep 2021   Prob (F-statistic):           2.73e-37\n",
      "Time:                        20:17:32   Log-Likelihood:                -1518.2\n",
      "No. Observations:                 722   AIC:                             3044.\n",
      "Df Residuals:                     718   BIC:                             3063.\n",
      "Df Model:                           3                                         \n",
      "Covariance Type:            nonrobust                                         \n",
      "==============================================================================\n",
      "                 coef    std err          t      P>|t|      [0.025      0.975]\n",
      "------------------------------------------------------------------------------\n",
      "const         10.3643      0.359     28.910      0.000       9.660      11.068\n",
      "sibs          -0.0936      0.034     -2.716      0.007      -0.161      -0.026\n",
      "meduc          0.1308      0.033      4.001      0.000       0.067       0.195\n",
      "feduc          0.2100      0.027      7.644      0.000       0.156       0.264\n",
      "==============================================================================\n",
      "Omnibus:                       43.481   Durbin-Watson:                   1.899\n",
      "Prob(Omnibus):                  0.000   Jarque-Bera (JB):               35.655\n",
      "Skew:                           0.461   Prob(JB):                     1.81e-08\n",
      "Kurtosis:                       2.422   Cond. No.                         76.1\n",
      "==============================================================================\n",
      "\n",
      "Notes:\n",
      "[1] Standard Errors assume that the covariance matrix of the errors is correctly specified.\n"
     ]
    }
   ],
   "source": [
    "reg = sm.OLS(y,x).fit()\n",
    "print(reg.summary())"
   ]
  },
  {
   "cell_type": "markdown",
   "metadata": {},
   "source": [
    "<h3>(b) Is the sign on the parameter estimate for sibs what you would expect? Explain.</h3>"
   ]
  },
  {
   "cell_type": "markdown",
   "metadata": {},
   "source": [
    "<p>Yes, I expected the sign on sibs to be negative and it turned out to be negative. One would expect the relationship between educ and sibs to be a negative correlation since it could be thought that it each family has limited income. The more children a family has, the less each child would get financial support needed to succeed academically from their parents since it must be divided among the children.</p>"
   ]
  },
  {
   "cell_type": "markdown",
   "metadata": {},
   "source": [
    "<h3>(c) Holding meduc and feduc fixed, by how much does sibs have to increase to reduce predicted years\n",
    "of education by one year (it is ok if you get a noninteger answer)?</h3>"
   ]
  },
  {
   "cell_type": "markdown",
   "metadata": {},
   "source": [
    "<p>𝑒𝑑𝑢𝑐̂= 𝛽<sub>0</sub>+ 𝛽<sub>1</sub> 𝑠𝑖𝑏𝑠+ 𝛽<sub>2</sub> 𝑚𝑒𝑑𝑢𝑐+ 𝛽<sub>3</sub> 𝑓𝑒𝑑𝑢𝑐 </p>\n",
    "&emsp; -1 = −0.0936 Δ𝑠𝑖𝑏𝑠\n",
    "<br>\n",
    "&emsp; 1/0.0936 = Δ𝑠𝑖𝑏𝑠"
   ]
  },
  {
   "cell_type": "code",
   "execution_count": 9,
   "metadata": {},
   "outputs": [
    {
     "name": "stdout",
     "output_type": "stream",
     "text": [
      "10.683760683760683\n"
     ]
    }
   ],
   "source": [
    "print(-1/-0.0936)"
   ]
  },
  {
   "cell_type": "markdown",
   "metadata": {},
   "source": [
    "<h3>(d) Explain the interpretation of the coefficient on meduc and feduc.</h3>"
   ]
  },
  {
   "cell_type": "markdown",
   "metadata": {},
   "source": [
    "<p>The coefficient of meduc is 0.13078, this implies that the effect of one more year of mother’s education would increase the child’s year of education by 0.13078 year, or about 13.08%. As for the coefficient of feduc, the coefficient is 0.2100. This implies that the effect of one more year of father’s education would increase years of a child’s education by 0.2100 year, or about 21%.</p>"
   ]
  },
  {
   "cell_type": "markdown",
   "metadata": {},
   "source": [
    "<h3>(e) Suppose that individual A has no siblings and his mother and father each have 12 years of\n",
    "education. Now suppose that individual B has no siblings and his mother and father each of 16\n",
    "years of education. What is the predicted difference in years of education between individuals A\n",
    "and B? Show your work.</h3>"
   ]
  },
  {
   "cell_type": "code",
   "execution_count": 26,
   "metadata": {},
   "outputs": [
    {
     "name": "stdout",
     "output_type": "stream",
     "text": [
      "Individual A: educ_hat = 10.3643 + 0 + (0.1308)(12) + (0.2100)(12) ≈ 14.45\n",
      "Individual B: educ_hat = 10.3643 + 0 + (0.1308)(16) + (0.2100)(16) ≈ 15.82\n",
      "Individual A - Individual B = -1.37\n"
     ]
    }
   ],
   "source": [
    "ind_a = str(round(10.3643 + 0 + (0.1308)*(12) + (0.2100)*(12), 2))\n",
    "ind_b = str(round(10.3643 + 0 + (0.1308)*(16) + (0.2100)*(16), 2))\n",
    "a_b_diff = str(round(float(ind_a) - float(ind_b), 2))\n",
    "print(f'Individual A: educ_hat = 10.3643 + 0 + (0.1308)(12) + (0.2100)(12) ≈ {ind_a}')\n",
    "print(f'Individual B: educ_hat = 10.3643 + 0 + (0.1308)(16) + (0.2100)(16) ≈ {ind_b}')\n",
    "print(f'Individual A - Individual B = {a_b_diff}')"
   ]
  },
  {
   "cell_type": "markdown",
   "metadata": {},
   "source": [
    "<p>The predicted difference in years of education between individual A and B is approximately 1.37 years, in which individual B is expected to have more education than individual A due to their parents have more education than parents of individual A.</p>"
   ]
  },
  {
   "cell_type": "markdown",
   "metadata": {},
   "source": [
    "***"
   ]
  },
  {
   "cell_type": "markdown",
   "metadata": {},
   "source": [
    "<h2>2) Use the posted data set HPRICE1.DTA to estimate the model\n",
    "<br>\n",
    "<br>\n",
    "&emsp;    price = 𝛽<sub>0</sub> + 𝛽<sub>1</sub>sqrft + 𝛽<sub>2</sub>bdrms + u\n",
    "<br>\n",
    "<br>\n",
    "where price is the house price measured in thousands of dollars.</h2>"
   ]
  },
  {
   "cell_type": "code",
   "execution_count": 28,
   "metadata": {},
   "outputs": [
    {
     "data": {
      "text/html": [
       "<div>\n",
       "<style scoped>\n",
       "    .dataframe tbody tr th:only-of-type {\n",
       "        vertical-align: middle;\n",
       "    }\n",
       "\n",
       "    .dataframe tbody tr th {\n",
       "        vertical-align: top;\n",
       "    }\n",
       "\n",
       "    .dataframe thead th {\n",
       "        text-align: right;\n",
       "    }\n",
       "</style>\n",
       "<table border=\"1\" class=\"dataframe\">\n",
       "  <thead>\n",
       "    <tr style=\"text-align: right;\">\n",
       "      <th></th>\n",
       "      <th>price</th>\n",
       "      <th>assess</th>\n",
       "      <th>bdrms</th>\n",
       "      <th>lotsize</th>\n",
       "      <th>sqrft</th>\n",
       "      <th>colonial</th>\n",
       "      <th>lprice</th>\n",
       "      <th>lassess</th>\n",
       "      <th>llotsize</th>\n",
       "      <th>lsqrft</th>\n",
       "    </tr>\n",
       "  </thead>\n",
       "  <tbody>\n",
       "    <tr>\n",
       "      <th>0</th>\n",
       "      <td>300.0</td>\n",
       "      <td>349.100006</td>\n",
       "      <td>4</td>\n",
       "      <td>6126.0</td>\n",
       "      <td>2438</td>\n",
       "      <td>1</td>\n",
       "      <td>5.703783</td>\n",
       "      <td>5.855359</td>\n",
       "      <td>8.720297</td>\n",
       "      <td>7.798934</td>\n",
       "    </tr>\n",
       "    <tr>\n",
       "      <th>1</th>\n",
       "      <td>370.0</td>\n",
       "      <td>351.500000</td>\n",
       "      <td>3</td>\n",
       "      <td>9903.0</td>\n",
       "      <td>2076</td>\n",
       "      <td>1</td>\n",
       "      <td>5.913503</td>\n",
       "      <td>5.862210</td>\n",
       "      <td>9.200593</td>\n",
       "      <td>7.638198</td>\n",
       "    </tr>\n",
       "    <tr>\n",
       "      <th>2</th>\n",
       "      <td>191.0</td>\n",
       "      <td>217.699997</td>\n",
       "      <td>3</td>\n",
       "      <td>5200.0</td>\n",
       "      <td>1374</td>\n",
       "      <td>0</td>\n",
       "      <td>5.252274</td>\n",
       "      <td>5.383118</td>\n",
       "      <td>8.556414</td>\n",
       "      <td>7.225482</td>\n",
       "    </tr>\n",
       "    <tr>\n",
       "      <th>3</th>\n",
       "      <td>195.0</td>\n",
       "      <td>231.800003</td>\n",
       "      <td>3</td>\n",
       "      <td>4600.0</td>\n",
       "      <td>1448</td>\n",
       "      <td>1</td>\n",
       "      <td>5.273000</td>\n",
       "      <td>5.445875</td>\n",
       "      <td>8.433811</td>\n",
       "      <td>7.277938</td>\n",
       "    </tr>\n",
       "    <tr>\n",
       "      <th>4</th>\n",
       "      <td>373.0</td>\n",
       "      <td>319.100006</td>\n",
       "      <td>4</td>\n",
       "      <td>6095.0</td>\n",
       "      <td>2514</td>\n",
       "      <td>1</td>\n",
       "      <td>5.921578</td>\n",
       "      <td>5.765504</td>\n",
       "      <td>8.715224</td>\n",
       "      <td>7.829630</td>\n",
       "    </tr>\n",
       "  </tbody>\n",
       "</table>\n",
       "</div>"
      ],
      "text/plain": [
       "   price      assess  bdrms  lotsize  sqrft  colonial    lprice   lassess  \\\n",
       "0  300.0  349.100006      4   6126.0   2438         1  5.703783  5.855359   \n",
       "1  370.0  351.500000      3   9903.0   2076         1  5.913503  5.862210   \n",
       "2  191.0  217.699997      3   5200.0   1374         0  5.252274  5.383118   \n",
       "3  195.0  231.800003      3   4600.0   1448         1  5.273000  5.445875   \n",
       "4  373.0  319.100006      4   6095.0   2514         1  5.921578  5.765504   \n",
       "\n",
       "   llotsize    lsqrft  \n",
       "0  8.720297  7.798934  \n",
       "1  9.200593  7.638198  \n",
       "2  8.556414  7.225482  \n",
       "3  8.433811  7.277938  \n",
       "4  8.715224  7.829630  "
      ]
     },
     "execution_count": 28,
     "metadata": {},
     "output_type": "execute_result"
    }
   ],
   "source": [
    "hprice_df = pd.read_stata('HPRICE1.dta')\n",
    "hprice_df.dropna(subset=['sqrft', 'bdrms'], inplace=True)\n",
    "hprice_df.reset_index(drop=True, inplace=True)\n",
    "hprice_df.head(5)"
   ]
  },
  {
   "cell_type": "code",
   "execution_count": 29,
   "metadata": {},
   "outputs": [],
   "source": [
    "x = hprice_df[['sqrft', 'bdrms']]\n",
    "y = hprice_df[['price']]\n",
    "x = sm.add_constant(x)"
   ]
  },
  {
   "cell_type": "code",
   "execution_count": 30,
   "metadata": {},
   "outputs": [
    {
     "name": "stdout",
     "output_type": "stream",
     "text": [
      "                            OLS Regression Results                            \n",
      "==============================================================================\n",
      "Dep. Variable:                  price   R-squared:                       0.632\n",
      "Model:                            OLS   Adj. R-squared:                  0.623\n",
      "Method:                 Least Squares   F-statistic:                     72.96\n",
      "Date:                Wed, 08 Sep 2021   Prob (F-statistic):           3.57e-19\n",
      "Time:                        21:02:30   Log-Likelihood:                -488.00\n",
      "No. Observations:                  88   AIC:                             982.0\n",
      "Df Residuals:                      85   BIC:                             989.4\n",
      "Df Model:                           2                                         \n",
      "Covariance Type:            nonrobust                                         \n",
      "==============================================================================\n",
      "                 coef    std err          t      P>|t|      [0.025      0.975]\n",
      "------------------------------------------------------------------------------\n",
      "const        -19.3150     31.047     -0.622      0.536     -81.044      42.414\n",
      "sqrft          0.1284      0.014      9.291      0.000       0.101       0.156\n",
      "bdrms         15.1982      9.484      1.603      0.113      -3.658      34.054\n",
      "==============================================================================\n",
      "Omnibus:                       25.221   Durbin-Watson:                   1.858\n",
      "Prob(Omnibus):                  0.000   Jarque-Bera (JB):               44.973\n",
      "Skew:                           1.122   Prob(JB):                     1.72e-10\n",
      "Kurtosis:                       5.689   Cond. No.                     9.85e+03\n",
      "==============================================================================\n",
      "\n",
      "Notes:\n",
      "[1] Standard Errors assume that the covariance matrix of the errors is correctly specified.\n",
      "[2] The condition number is large, 9.85e+03. This might indicate that there are\n",
      "strong multicollinearity or other numerical problems.\n"
     ]
    }
   ],
   "source": [
    "reg = sm.OLS(y,x).fit()\n",
    "print(reg.summary())"
   ]
  },
  {
   "cell_type": "markdown",
   "metadata": {},
   "source": [
    "<h3>(a) Write down the estimated regression equation.</h3>"
   ]
  },
  {
   "cell_type": "markdown",
   "metadata": {},
   "source": [
    "<p>𝑝𝑟𝑖𝑐𝑒̂ = 𝛽<sub>0</sub> + 𝛽<sub>1</sub> 𝑠𝑞𝑟𝑓𝑡 + 𝛽<sub>2</sub> 𝑏𝑑𝑟𝑚𝑠 \n",
    "<br>\n",
    "&emsp; = −19.315 + 0.1284362 𝑠𝑞𝑟𝑓𝑡 + 15.19819 bdrms</p>"
   ]
  },
  {
   "cell_type": "markdown",
   "metadata": {},
   "source": [
    "<h3>(b) What is the estimated increase in price for a house with one or more bedrooms, holding square\n",
    "footage constant?</h3>"
   ]
  },
  {
   "cell_type": "code",
   "execution_count": 31,
   "metadata": {},
   "outputs": [],
   "source": [
    "coef_df = pd.read_html(reg.summary().tables[1].as_html(),header=0,index_col=0)[0]\n",
    "sqrft_coef = coef_df['coef']['sqrft']\n",
    "bdrms_coef = coef_df['coef']['bdrms']\n",
    "const_coef = coef_df['coef']['const']"
   ]
  },
  {
   "cell_type": "code",
   "execution_count": 32,
   "metadata": {},
   "outputs": [
    {
     "name": "stdout",
     "output_type": "stream",
     "text": [
      "change in price depending on bedrooms if holding sqrft fixed is \n",
      "15198.2\n"
     ]
    }
   ],
   "source": [
    "print('change in price depending on bedrooms if holding sqrft fixed is ')\n",
    "print(bdrms_coef * 1000)"
   ]
  },
  {
   "cell_type": "markdown",
   "metadata": {},
   "source": [
    "<h3>(c) What is the estimated increase in price for a house with an additional bedroom that is 140 square\n",
    "feet in size? Compare this to your answer in part (b).</h3>"
   ]
  },
  {
   "cell_type": "code",
   "execution_count": 33,
   "metadata": {},
   "outputs": [
    {
     "name": "stdout",
     "output_type": "stream",
     "text": [
      "estimated increase in price for a house with an additional bedroom that is 140 squarefeet in size is\n",
      "33.1742\n"
     ]
    }
   ],
   "source": [
    "print('estimated increase in price for a house with an additional bedroom that is 140 squarefeet in size is')\n",
    "print(bdrms_coef + (sqrft_coef*140))"
   ]
  },
  {
   "cell_type": "markdown",
   "metadata": {},
   "source": [
    "<h3>(d) What percentage in the variation in price is explained by square footage and the number of\n",
    "bedrooms?</h3>"
   ]
  },
  {
   "cell_type": "markdown",
   "metadata": {},
   "source": [
    "<p>R<sup>2</sup> implies how much sqrft and bdrms explain the variation in price. The value of R<sup>2</sup> in this case is 0.632. By multiplying R2 by 100, we will get the percentage term, which is 63.20%</p>"
   ]
  },
  {
   "cell_type": "markdown",
   "metadata": {},
   "source": [
    "<h3>(e) Suppose a house has sqrft = 2,438 and bdrms = 4: Find the predicted selling price for this house.</h3>"
   ]
  },
  {
   "cell_type": "code",
   "execution_count": 34,
   "metadata": {},
   "outputs": [
    {
     "name": "stdout",
     "output_type": "stream",
     "text": [
      "Suppose a house has sqrft= 2,438 and bdrms= 4, the predicted selling price of the house is\n",
      "354517.0\n"
     ]
    }
   ],
   "source": [
    "print('Suppose a house has sqrft= 2,438 and bdrms= 4, the predicted selling price of the house is')\n",
    "print((const_coef + ((bdrms_coef * 4)+(sqrft_coef * 2438)))*1000)"
   ]
  },
  {
   "cell_type": "markdown",
   "metadata": {},
   "source": [
    "<h3>(f) The actual selling price for the house in part (e) was $300,000 (so price = 300). Find the residual\n",
    "for this house. Does this suggest that the purchaser underpaid or overpaid for this particular\n",
    "house?</h3>"
   ]
  },
  {
   "cell_type": "code",
   "execution_count": 35,
   "metadata": {},
   "outputs": [
    {
     "name": "stdout",
     "output_type": "stream",
     "text": [
      "The residual for this house is \n",
      "-54517.0\n"
     ]
    }
   ],
   "source": [
    "print('The residual for this house is ')\n",
    "print(300000-((const_coef + ((bdrms_coef * 4)+(sqrft_coef * 2438)))*1000))"
   ]
  },
  {
   "cell_type": "markdown",
   "metadata": {},
   "source": [
    "***"
   ]
  },
  {
   "cell_type": "markdown",
   "metadata": {},
   "source": [
    "<h2>3) Use the posted data set RDCHEM.DTA to estimate the model\n",
    "<br>\n",
    "<br>\n",
    "&emsp;   rdntens = 𝛽<sub>0</sub> + 𝛽<sub>1</sub>lsales + 𝛽<sub>2</sub>profmarg + u\n",
    "<br>\n",
    "<br>\n",
    "where rdintens is R&D spending as a percent of total sales, lsales is the log of sales, and profmarg\n",
    "are profits as a percent of sales.</h2>"
   ]
  },
  {
   "cell_type": "code",
   "execution_count": 36,
   "metadata": {},
   "outputs": [
    {
     "data": {
      "text/html": [
       "<div>\n",
       "<style scoped>\n",
       "    .dataframe tbody tr th:only-of-type {\n",
       "        vertical-align: middle;\n",
       "    }\n",
       "\n",
       "    .dataframe tbody tr th {\n",
       "        vertical-align: top;\n",
       "    }\n",
       "\n",
       "    .dataframe thead th {\n",
       "        text-align: right;\n",
       "    }\n",
       "</style>\n",
       "<table border=\"1\" class=\"dataframe\">\n",
       "  <thead>\n",
       "    <tr style=\"text-align: right;\">\n",
       "      <th></th>\n",
       "      <th>rd</th>\n",
       "      <th>sales</th>\n",
       "      <th>profits</th>\n",
       "      <th>rdintens</th>\n",
       "      <th>profmarg</th>\n",
       "      <th>salessq</th>\n",
       "      <th>lsales</th>\n",
       "      <th>lrd</th>\n",
       "    </tr>\n",
       "  </thead>\n",
       "  <tbody>\n",
       "    <tr>\n",
       "      <th>0</th>\n",
       "      <td>430.600006</td>\n",
       "      <td>4570.200195</td>\n",
       "      <td>186.899994</td>\n",
       "      <td>9.421906</td>\n",
       "      <td>4.089536</td>\n",
       "      <td>2.088673e+07</td>\n",
       "      <td>8.427312</td>\n",
       "      <td>6.065180</td>\n",
       "    </tr>\n",
       "    <tr>\n",
       "      <th>1</th>\n",
       "      <td>59.000000</td>\n",
       "      <td>2830.000000</td>\n",
       "      <td>467.000000</td>\n",
       "      <td>2.084806</td>\n",
       "      <td>16.501766</td>\n",
       "      <td>8.008900e+06</td>\n",
       "      <td>7.948032</td>\n",
       "      <td>4.077538</td>\n",
       "    </tr>\n",
       "    <tr>\n",
       "      <th>2</th>\n",
       "      <td>23.500000</td>\n",
       "      <td>596.799988</td>\n",
       "      <td>107.400002</td>\n",
       "      <td>3.937668</td>\n",
       "      <td>17.995979</td>\n",
       "      <td>3.561702e+05</td>\n",
       "      <td>6.391582</td>\n",
       "      <td>3.157000</td>\n",
       "    </tr>\n",
       "    <tr>\n",
       "      <th>3</th>\n",
       "      <td>3.500000</td>\n",
       "      <td>133.600006</td>\n",
       "      <td>-4.300000</td>\n",
       "      <td>2.619760</td>\n",
       "      <td>-3.218563</td>\n",
       "      <td>1.784896e+04</td>\n",
       "      <td>4.894850</td>\n",
       "      <td>1.252763</td>\n",
       "    </tr>\n",
       "    <tr>\n",
       "      <th>4</th>\n",
       "      <td>1.700000</td>\n",
       "      <td>42.000000</td>\n",
       "      <td>8.000000</td>\n",
       "      <td>4.047619</td>\n",
       "      <td>19.047619</td>\n",
       "      <td>1.764000e+03</td>\n",
       "      <td>3.737670</td>\n",
       "      <td>0.530628</td>\n",
       "    </tr>\n",
       "  </tbody>\n",
       "</table>\n",
       "</div>"
      ],
      "text/plain": [
       "           rd        sales     profits  rdintens   profmarg       salessq  \\\n",
       "0  430.600006  4570.200195  186.899994  9.421906   4.089536  2.088673e+07   \n",
       "1   59.000000  2830.000000  467.000000  2.084806  16.501766  8.008900e+06   \n",
       "2   23.500000   596.799988  107.400002  3.937668  17.995979  3.561702e+05   \n",
       "3    3.500000   133.600006   -4.300000  2.619760  -3.218563  1.784896e+04   \n",
       "4    1.700000    42.000000    8.000000  4.047619  19.047619  1.764000e+03   \n",
       "\n",
       "     lsales       lrd  \n",
       "0  8.427312  6.065180  \n",
       "1  7.948032  4.077538  \n",
       "2  6.391582  3.157000  \n",
       "3  4.894850  1.252763  \n",
       "4  3.737670  0.530628  "
      ]
     },
     "execution_count": 36,
     "metadata": {},
     "output_type": "execute_result"
    }
   ],
   "source": [
    "rdchem_df = pd.read_stata('RDCHEM.dta')\n",
    "rdchem_df.head(5)"
   ]
  },
  {
   "cell_type": "code",
   "execution_count": 154,
   "metadata": {},
   "outputs": [
    {
     "name": "stdout",
     "output_type": "stream",
     "text": [
      "                            OLS Regression Results                            \n",
      "==============================================================================\n",
      "Dep. Variable:               rdintens   R-squared:                       0.098\n",
      "Model:                            OLS   Adj. R-squared:                  0.036\n",
      "Method:                 Least Squares   F-statistic:                     1.584\n",
      "Date:                Sun, 01 Aug 2021   Prob (F-statistic):              0.222\n",
      "Time:                        16:40:52   Log-Likelihood:                -63.333\n",
      "No. Observations:                  32   AIC:                             132.7\n",
      "Df Residuals:                      29   BIC:                             137.1\n",
      "Df Model:                           2                                         \n",
      "Covariance Type:            nonrobust                                         \n",
      "==============================================================================\n",
      "                 coef    std err          t      P>|t|      [0.025      0.975]\n",
      "------------------------------------------------------------------------------\n",
      "const          0.4723      1.676      0.282      0.780      -2.956       3.900\n",
      "lsales         0.3213      0.216      1.491      0.147      -0.120       0.762\n",
      "profmarg       0.0500      0.046      1.093      0.283      -0.044       0.144\n",
      "==============================================================================\n",
      "Omnibus:                       15.836   Durbin-Watson:                   1.652\n",
      "Prob(Omnibus):                  0.000   Jarque-Bera (JB):               17.790\n",
      "Skew:                           1.430   Prob(JB):                     0.000137\n",
      "Kurtosis:                       5.272   Cond. No.                         70.6\n",
      "==============================================================================\n",
      "\n",
      "Notes:\n",
      "[1] Standard Errors assume that the covariance matrix of the errors is correctly specified.\n"
     ]
    }
   ],
   "source": [
    "rdchem_df.dropna(subset=['lsales', 'profmarg'], inplace=True)\n",
    "rdchem_df.reset_index(drop=True, inplace=True)\n",
    "x = rdchem_df[['lsales', 'profmarg']]\n",
    "y = rdchem_df[['rdintens']]\n",
    "x = sm.add_constant(x)\n",
    "reg = sm.OLS(y,x).fit()\n",
    "print(reg.summary())"
   ]
  },
  {
   "cell_type": "markdown",
   "metadata": {},
   "source": [
    "<h3>(a) Test the hypothesis that R&D intensity (rdintens) does not change with sales against the alternative that it does increase with sales. Do the tests at the 5% and 10% levels.</h3>"
   ]
  },
  {
   "cell_type": "code",
   "execution_count": 148,
   "metadata": {},
   "outputs": [
    {
     "name": "stdout",
     "output_type": "stream",
     "text": [
      "t critical value at 5% is \n",
      "1.6991270265334977\n",
      "t critical value at 10% is \n",
      "1.311433650507697\n"
     ]
    }
   ],
   "source": [
    "t_crit = ss.t.ppf(df=29, q=0.05)\n",
    "print('t critical value at 5% is ')\n",
    "print(abs(t_crit))\n",
    "t_crit = ss.t.ppf(df=29, q=0.10)\n",
    "print('t critical value at 10% is ')\n",
    "print(abs(t_crit))"
   ]
  },
  {
   "cell_type": "markdown",
   "metadata": {},
   "source": [
    "<p>The t statistics for lsales is 1.491, while the t critical value for 5% is approximately 1.699, and the t critical value for 10% is approximately 1.311. Since |tc| > |tb| at 5% level, we fail to reject the null hypothesis at 5%, but we reject the null hypothesis at 10% </p>"
   ]
  },
  {
   "cell_type": "markdown",
   "metadata": {},
   "source": [
    "<h3>(b) Interpret the coefficient on profmarg. Is it economically signi",
    "cant?</h3>"
   ]
  },
  {
   "cell_type": "markdown",
   "metadata": {},
   "source": [
    "<p>The coefficient for profmarg is only .0500367, which is approximately about 5%. So it is not very economically significant</p>"
   ]
  },
  {
   "cell_type": "markdown",
   "metadata": {},
   "source": [
    "<h3>(c) Does profmarg have a statistically significant effect on rdintens?</h3>"
   ]
  },
  {
   "cell_type": "markdown",
   "metadata": {},
   "source": [
    "<p>|tprofmarg| = 1.093, which is lower than |tc| for both 5% and 10% levels, so it is not statistically significant</p>"
   ]
  },
  {
   "cell_type": "code",
   "execution_count": null,
   "metadata": {},
   "outputs": [],
   "source": []
  }
 ],
 "metadata": {
  "kernelspec": {
   "display_name": "Python 3",
   "language": "python",
   "name": "python3"
  },
  "language_info": {
   "codemirror_mode": {
    "name": "ipython",
    "version": 3
   },
   "file_extension": ".py",
   "mimetype": "text/x-python",
   "name": "python",
   "nbconvert_exporter": "python",
   "pygments_lexer": "ipython3",
   "version": "3.8.1"
  }
 },
 "nbformat": 4,
 "nbformat_minor": 4
}
